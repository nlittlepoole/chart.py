{
 "metadata": {
  "name": "demo"
 },
 "nbformat": 3,
 "nbformat_minor": 0,
 "worksheets": [
  {
   "cells": [
    {
     "cell_type": "markdown",
     "metadata": {},
     "source": "<h2> Imports:</h2>"
    },
    {
     "cell_type": "code",
     "collapsed": false,
     "input": "from IPython.display import SVG, HTML\nfrom chartspy import *\nfrom chartspy.colors import *\nimport datetime\nimport random",
     "language": "python",
     "metadata": {},
     "outputs": [],
     "prompt_number": 1
    },
    {
     "cell_type": "markdown",
     "metadata": {},
     "source": "<h2> Generating some dummy data for tests </h2>"
    },
    {
     "cell_type": "code",
     "collapsed": false,
     "input": "numdays = 5\nbase = datetime.datetime.today()\n\ndate_list = [(base - datetime.timedelta(days=x)).strftime(\"%B %d, %Y\") for x in range(0, numdays)]\ndate_list.reverse()\na = random.sample(xrange(100), numdays)\nb = random.sample(xrange(100), numdays)\n\nnumdays= 85\ndate_list_other = [(base - datetime.timedelta(days=x)).strftime(\"%B %d, %Y\") for x in range(0, numdays)]\ndate_list_other.reverse()\nc = random.sample(xrange(100), numdays)\nd = random.sample(xrange(100), numdays)\n\n",
     "language": "python",
     "metadata": {},
     "outputs": [],
     "prompt_number": 2
    },
    {
     "cell_type": "markdown",
     "metadata": {},
     "source": "I've created 2 sets of sample data to show what things look like for small population and for large populations of data"
    },
    {
     "cell_type": "markdown",
     "metadata": {},
     "source": "<h2> Bar Chart </h2>"
    },
    {
     "cell_type": "code",
     "collapsed": false,
     "input": "x = BarChart(date_list)\nx.add_dimension(\"Bar 1\",a, options=DEFAULT_GREEN)\nx.add_dimension(\"Bar 2\",b)\nx.set_color(\"Bar 2\", DEFAULT_RED )\nHTML(x.build_html())",
     "language": "python",
     "metadata": {},
     "outputs": [
      {
       "html": "<html>\n<head>\n<title>Chart</title>\n<script src= \"http://www.chartjs.org/assets/Chart.js\"></script> \n</head>\n<body>\n <canvas id=\"myChart4536\" width=\"450\" height=\"450\"></canvas><script>var kanvas4536= document.getElementById(\"myChart4536\"); \n var ctx4536 = kanvas4536.getContext(\"2d\");\nvar data = {\"labels\": [\"June 25, 2015\", \"June 26, 2015\", \"June 27, 2015\", \"June 28, 2015\", \"June 29, 2015\"], \"datasets\": [{\"pointHighlightFill\": \"#fff\", \"stacked\": \"false\", \"fillColor\": \"rgba(0,255,0,0.2)\", \"pointHighlightStroke\": \"rgba(39, 174, 96,1)\", \"pointColor\": \"rgba(39, 174, 96,1)\", \"strokeColor\": \"rgba(39, 174, 96,.4)\", \"pointStrokeColor\": \"#fff\", \"data\": [5, 50, 19, 0, 13], \"label\": \"Bar 1\"}, {\"pointHighlightFill\": \"#fff\", \"stacked\": \"false\", \"fillColor\": \"rgba(255,0,0,0.2)\", \"pointHighlightStroke\": \"rgba(192, 57, 43,1)\", \"pointColor\": \"rgba(192, 57, 43,1)\", \"strokeColor\": \"rgba(192, 57, 43,.4)\", \"pointStrokeColor\": \"#fff\", \"data\": [92, 59, 43, 24, 42], \"label\": \"Bar 2\"}]}\nvar myLineChart4536 = new Chart(ctx4536).Bar(data, {\"datasetFill\": false, \"animation\": true, \"pointDot\": false} ); \n function change4536(name, stacked) {\n\n                var svg = document.getElementById(name);\n\n                myLineChart4536.datasets.forEach(function (dimension, index) {\n\n                    \n                    if (dimension.label == name) {\n                        if ('temp' in myLineChart4536.datasets[index] && myLineChart4536.datasets[index].temp.length > 0) {\n\n                            myLineChart4536.datasets[index].bars = myLineChart4536.datasets[index].temp;\n                            myLineChart4536.datasets[index].temp = [];\n                            svg.style.fill=myLineChart4536.datasets[index].fillColor;\n                            \n                            if(stacked==true){\n                                for (i = 0; i < index; i++) { \n                                   for (x = 0; x < myLineChart4536.datasets[index].bars.length; x++) { \n                                            myLineChart4536.datasets[i].bars[x].value = myLineChart4536.datasets[i].bars[x].value + myLineChart4536.datasets[index].bars[x].value;\n                                   }\n                                }\n                            }\n\n                        } else {\n\n                            if(stacked==true){\n                                for (i = 0; i < index; i++) { \n                                   for (x = 0; x < myLineChart4536.datasets[index].bars.length; x++) { \n                                        myLineChart4536.datasets[i].bars[x].value = myLineChart4536.datasets[i].bars[x].value - myLineChart4536.datasets[index].bars[x].value;\n                                   }\n                                }\n                            }\n                            myLineChart4536.datasets[index].temp = myLineChart4536.datasets[index].bars;\n                            myLineChart4536.datasets[index].bars = [];\n                            svg.style.fill=\"white\";\n                        }\n                        myLineChart4536.update();\n                    }\n                });\n\n            }\n            </script>\n\n            <br> <h2>Legend:</h2>\n            \n                        <br>\n                        <svg height=\"15\" width=\"15\" onclick=\"change4536('Bar 2', false)\" style=\"cursor: pointer;\">\n                          <circle  id=\"Bar 2\" cx=\"7\" cy=\"10\" r=\"5\" stroke=\"rgba(192, 57, 43,.4)\" stroke-width=\"1\" fill=\"rgba(255,0,0,0.2)\" />\n                        </svg>\n                        <font style=\"cursor: pointer;\" onclick=\"change4536('Bar 2',false)\">Bar 2</font>\n                    \n                        <br>\n                        <svg height=\"15\" width=\"15\" onclick=\"change4536('Bar 1', false)\" style=\"cursor: pointer;\">\n                          <circle  id=\"Bar 1\" cx=\"7\" cy=\"10\" r=\"5\" stroke=\"rgba(39, 174, 96,.4)\" stroke-width=\"1\" fill=\"rgba(0,255,0,0.2)\" />\n                        </svg>\n                        <font style=\"cursor: pointer;\" onclick=\"change4536('Bar 1',false)\">Bar 1</font>\n                    \n</body></html>",
       "metadata": {},
       "output_type": "pyout",
       "prompt_number": 3,
       "text": "<IPython.core.display.HTML at 0x2774290>"
      }
     ],
     "prompt_number": 3
    },
    {
     "cell_type": "code",
     "collapsed": false,
     "input": "y = DoughnutChart([{\"label\": \"test\", \"value\":300}, {\"label\": \"test2\", \"value\":100},{\"label\": \"test3\", \"value\":200}  ])\nHTML(y.build_html())",
     "language": "python",
     "metadata": {},
     "outputs": [
      {
       "html": "<html>\n<head>\n<title>Chart</title>\n<script src= \"http://www.chartjs.org/assets/Chart.js\"></script> \n</head>\n<body>\n <canvas id=\"myChart3502\" width=\"450\" height=\"450\"></canvas><script>var kanvas3502= document.getElementById(\"myChart3502\"); \n var ctx3502 = kanvas3502.getContext(\"2d\");\nvar data3502 = [{\"color\": \"rgba(151,187,205,1)\", \"highlight\": \"rgba(151,187,205,1)\", \"value\": 300, \"label\": \"test\"}, {\"color\": \"rgba(39, 174, 96,1)\", \"highlight\": \"rgba(39, 174, 96,.4)\", \"value\": 100, \"label\": \"test2\"}, {\"color\": \"rgba(192, 57, 43,1)\", \"highlight\": \"rgba(192, 57, 43,.4)\", \"value\": 200, \"label\": \"test3\"}]\nvar myLineChart3502 = new Chart(ctx3502).Doughnut(data3502, {\"animateScale\": true} ); \n function change3502(name, pos) {\n\n                    var svg = document.getElementById(name);\n\n                    if( myLineChart3502.segments[pos].value != 0){\n                                myLineChart3502.segments[pos].value=0;\n                                svg.style.fill=\"white\";\n                    }\n                    else{ \n                        myLineChart3502.segments[pos].value=data3502[pos].value;\n                        svg.style.fill=data3502[pos].color;\n                    }\n                    myLineChart3502.update()\n                }\n\n            kanvas3502.onclick = function(evt){\n                var tag  = myLineChart3502.getSegmentsAtEvent(evt)[0].label;\n                for (i = 0; i < myLineChart3502.segments.length; i++) { \n                    if(tag == myLineChart3502.segments[i].label){\n                        change3502(tag, i);\n                    }\n                }\n            }\n            </script>\n\n            <br> <h2>Legend:</h2>\n            \n                        <br>\n                        <svg height=\"15\" width=\"15\" onclick=\"change3502('test', 0)\" style=\"cursor: pointer;\">\n                          <circle  id=\"test\" cx=\"7\" cy=\"10\" r=\"5\" stroke=\"rgba(151,187,205,1)\" stroke-width=\"1\" fill=\" rgba(151,187,205,1) \" />\n                        </svg>\n                        <font style=\"cursor: pointer;\" onclick=\"change3502('test',0)\">test</font>\n                    \n                        <br>\n                        <svg height=\"15\" width=\"15\" onclick=\"change3502('test2', 1)\" style=\"cursor: pointer;\">\n                          <circle  id=\"test2\" cx=\"7\" cy=\"10\" r=\"5\" stroke=\"rgba(39, 174, 96,.4)\" stroke-width=\"1\" fill=\" rgba(39, 174, 96,1) \" />\n                        </svg>\n                        <font style=\"cursor: pointer;\" onclick=\"change3502('test2',1)\">test2</font>\n                    \n                        <br>\n                        <svg height=\"15\" width=\"15\" onclick=\"change3502('test3', 2)\" style=\"cursor: pointer;\">\n                          <circle  id=\"test3\" cx=\"7\" cy=\"10\" r=\"5\" stroke=\"rgba(192, 57, 43,.4)\" stroke-width=\"1\" fill=\" rgba(192, 57, 43,1) \" />\n                        </svg>\n                        <font style=\"cursor: pointer;\" onclick=\"change3502('test3',2)\">test3</font>\n                    \n</body></html>",
       "metadata": {},
       "output_type": "pyout",
       "prompt_number": 4,
       "text": "<IPython.core.display.HTML at 0x2774250>"
      }
     ],
     "prompt_number": 4
    },
    {
     "cell_type": "code",
     "collapsed": false,
     "input": "lam = lambda x: \"\" if int(x.split(\" \")[1].replace(\",\",\"\")) % 2 != 0 else x\nz = StackedChart(date_list_other, width =800 ,height=450, params = {\"nth\": lam})\nz.add_dimension(\"Line 1\",c, options=DEFAULT_GREEN)\nz.add_dimension(\"Line 2\",d)\nz.set_color(\"Line 2\", DEFAULT_RED )\nHTML(z.build_html())",
     "language": "python",
     "metadata": {},
     "outputs": [
      {
       "html": "<html>\n<head>\n<title>Chart</title>\n<script src= \"http://www.chartjs.org/assets/Chart.js\"></script> \n</head>\n<body>\n <canvas id=\"myChart706\" width=\"800\" height=\"450\"></canvas><script>var kanvas706= document.getElementById(\"myChart706\"); \n var ctx706 = kanvas706.getContext(\"2d\");\nvar data = {\"labels\": [\"April 06, 2015\", \"\", \"April 08, 2015\", \"\", \"April 10, 2015\", \"\", \"April 12, 2015\", \"\", \"April 14, 2015\", \"\", \"April 16, 2015\", \"\", \"April 18, 2015\", \"\", \"April 20, 2015\", \"\", \"April 22, 2015\", \"\", \"April 24, 2015\", \"\", \"April 26, 2015\", \"\", \"April 28, 2015\", \"\", \"April 30, 2015\", \"\", \"May 02, 2015\", \"\", \"May 04, 2015\", \"\", \"May 06, 2015\", \"\", \"May 08, 2015\", \"\", \"May 10, 2015\", \"\", \"May 12, 2015\", \"\", \"May 14, 2015\", \"\", \"May 16, 2015\", \"\", \"May 18, 2015\", \"\", \"May 20, 2015\", \"\", \"May 22, 2015\", \"\", \"May 24, 2015\", \"\", \"May 26, 2015\", \"\", \"May 28, 2015\", \"\", \"May 30, 2015\", \"\", \"\", \"June 02, 2015\", \"\", \"June 04, 2015\", \"\", \"June 06, 2015\", \"\", \"June 08, 2015\", \"\", \"June 10, 2015\", \"\", \"June 12, 2015\", \"\", \"June 14, 2015\", \"\", \"June 16, 2015\", \"\", \"June 18, 2015\", \"\", \"June 20, 2015\", \"\", \"June 22, 2015\", \"\", \"June 24, 2015\", \"\", \"June 26, 2015\", \"\", \"June 28, 2015\", \"\"], \"datasets\": [{\"pointHighlightFill\": \"#fff\", \"stacked\": \"true\", \"fillColor\": \"rgba(255,0,0,0.2)\", \"pointHighlightStroke\": \"rgba(192, 57, 43,1)\", \"pointColor\": \"rgba(192, 57, 43,1)\", \"strokeColor\": \"rgba(192, 57, 43,.4)\", \"pointStrokeColor\": \"#fff\", \"data\": [83, 53, 123, 62, 141, 109, 50, 76, 92, 157, 71, 92, 73, 153, 151, 106, 54, 124, 45, 148, 184, 126, 49, 129, 34, 109, 74, 135, 75, 144, 111, 176, 104, 27, 56, 67, 75, 34, 73, 107, 153, 89, 163, 80, 175, 52, 97, 136, 92, 57, 114, 106, 44, 143, 50, 46, 127, 105, 76, 125, 88, 140, 88, 70, 123, 109, 180, 18, 78, 70, 108, 95, 132, 23, 105, 100, 142, 37, 114, 176, 142, 18, 121, 134, 65], \"label\": \"Line 2\"}, {\"pointHighlightFill\": \"#fff\", \"stacked\": \"true\", \"fillColor\": \"rgba(0,255,0,0.2)\", \"pointHighlightStroke\": \"rgba(39, 174, 96,1)\", \"pointColor\": \"rgba(39, 174, 96,1)\", \"strokeColor\": \"rgba(39, 174, 96,.4)\", \"pointStrokeColor\": \"#fff\", \"data\": [82, 27, 40, 29, 76, 85, 16, 71, 39, 80, 69, 25, 64, 90, 72, 95, 19, 53, 13, 91, 86, 98, 3, 35, 22, 88, 74, 96, 14, 89, 75, 81, 61, 0, 26, 5, 58, 11, 21, 23, 97, 51, 66, 30, 99, 34, 93, 70, 73, 42, 67, 77, 31, 84, 6, 38, 41, 68, 8, 33, 18, 59, 48, 12, 45, 37, 92, 2, 24, 10, 63, 54, 43, 20, 36, 94, 57, 15, 65, 83, 78, 4, 46, 47, 17], \"label\": \"Line 1\"}]}\nvar myLineChart706 = new Chart(ctx706).Line(data, {\"nth\": null, \"animation\": true, \"pointDot\": false, \"datasetFill\": \"true\"} ); \n function change706(name, stacked) {\n\n                var svg = document.getElementById(name);\n\n                myLineChart706.datasets.forEach(function (dimension, index) {\n\n                    \n                    if (dimension.label == name) {\n                        if ('temp' in myLineChart706.datasets[index] && myLineChart706.datasets[index].temp.length > 0) {\n\n                            myLineChart706.datasets[index].points = myLineChart706.datasets[index].temp;\n                            myLineChart706.datasets[index].temp = [];\n                            svg.style.fill=myLineChart706.datasets[index].fillColor;\n                            \n                            if(stacked==true){\n                                for (i = 0; i < index; i++) { \n                                   for (x = 0; x < myLineChart706.datasets[index].points.length; x++) { \n                                            myLineChart706.datasets[i].points[x].value = myLineChart706.datasets[i].points[x].value + myLineChart706.datasets[index].points[x].value;\n                                   }\n                                }\n                            }\n\n                        } else {\n\n                            if(stacked==true){\n                                for (i = 0; i < index; i++) { \n                                   for (x = 0; x < myLineChart706.datasets[index].points.length; x++) { \n                                        myLineChart706.datasets[i].points[x].value = myLineChart706.datasets[i].points[x].value - myLineChart706.datasets[index].points[x].value;\n                                   }\n                                }\n                            }\n                            myLineChart706.datasets[index].temp = myLineChart706.datasets[index].points;\n                            myLineChart706.datasets[index].points = [];\n                            svg.style.fill=\"white\";\n                        }\n                        myLineChart706.update();\n                    }\n                });\n\n            }\n            </script>\n\n            <br> <h2>Legend:</h2>\n            \n                        <br>\n                        <svg height=\"15\" width=\"15\" onclick=\"change706('Line 1', true)\" style=\"cursor: pointer;\">\n                          <circle  id=\"Line 1\" cx=\"7\" cy=\"10\" r=\"5\" stroke=\"rgba(39, 174, 96,.4)\" stroke-width=\"1\" fill=\"rgba(39, 174, 96,1)\" />\n                        </svg>\n                        <font style=\"cursor: pointer;\" onclick=\"change706('Line 1',true)\">Line 1</font>\n                    \n                        <br>\n                        <svg height=\"15\" width=\"15\" onclick=\"change706('Line 2', true)\" style=\"cursor: pointer;\">\n                          <circle  id=\"Line 2\" cx=\"7\" cy=\"10\" r=\"5\" stroke=\"rgba(192, 57, 43,.4)\" stroke-width=\"1\" fill=\"rgba(192, 57, 43,1)\" />\n                        </svg>\n                        <font style=\"cursor: pointer;\" onclick=\"change706('Line 2',true)\">Line 2</font>\n                    \n</body></html>",
       "metadata": {},
       "output_type": "pyout",
       "prompt_number": 5,
       "text": "<IPython.core.display.HTML at 0x2774e90>"
      }
     ],
     "prompt_number": 5
    },
    {
     "cell_type": "markdown",
     "metadata": {},
     "source": "The above demonstrates the ability to set the height and width of the canvas that hosts the chart. As well its possible to use python's lambda syntax to set which labels will be visible in chart. In this example only dates with even days of the month are visible"
    },
    {
     "cell_type": "markdown",
     "metadata": {},
     "source": "<h2>Line Chart</h2>"
    },
    {
     "cell_type": "code",
     "collapsed": false,
     "input": "options = {\"pointDot\": True,}\nt = LineChart(date_list, params=options)\nt.add_dimension(\"Line 1\",a,)\nt.add_dimension(\"Line 2\",b)\nt.set_color(\"Line 1\", DEFAULT_GREEN )\nHTML(t.build_html())",
     "language": "python",
     "metadata": {},
     "outputs": [
      {
       "html": "<html>\n<head>\n<title>Chart</title>\n<script src= \"http://www.chartjs.org/assets/Chart.js\"></script> \n</head>\n<body>\n <canvas id=\"myChart5906\" width=\"450\" height=\"450\"></canvas><script>var kanvas5906= document.getElementById(\"myChart5906\"); \n var ctx5906 = kanvas5906.getContext(\"2d\");\nvar data = {\"labels\": [\"June 25, 2015\", \"June 26, 2015\", \"June 27, 2015\", \"June 28, 2015\", \"June 29, 2015\"], \"datasets\": [{\"pointHighlightFill\": \"#fff\", \"stacked\": \"false\", \"fillColor\": \"rgba(151,187,205,0.2)\", \"pointHighlightStroke\": \"rgba(151,187,205,1)\", \"pointColor\": \"rgba(151,187,205,1)\", \"strokeColor\": \"rgba(151,187,205,1)\", \"pointStrokeColor\": \"#fff\", \"data\": [92, 59, 43, 24, 42], \"label\": \"Line 2\"}, {\"pointHighlightFill\": \"#fff\", \"stacked\": \"false\", \"fillColor\": \"rgba(0,255,0,0.2)\", \"pointHighlightStroke\": \"rgba(39, 174, 96,1)\", \"pointColor\": \"rgba(39, 174, 96,1)\", \"strokeColor\": \"rgba(39, 174, 96,.4)\", \"pointStrokeColor\": \"#fff\", \"data\": [5, 50, 19, 0, 13], \"label\": \"Line 1\"}]}\nvar myLineChart5906 = new Chart(ctx5906).Line(data, {\"datasetFill\": false, \"animation\": true, \"pointDot\": true} ); \n function change5906(name, stacked) {\n\n                var svg = document.getElementById(name);\n\n                myLineChart5906.datasets.forEach(function (dimension, index) {\n\n                    \n                    if (dimension.label == name) {\n                        if ('temp' in myLineChart5906.datasets[index] && myLineChart5906.datasets[index].temp.length > 0) {\n\n                            myLineChart5906.datasets[index].points = myLineChart5906.datasets[index].temp;\n                            myLineChart5906.datasets[index].temp = [];\n                            svg.style.fill=myLineChart5906.datasets[index].fillColor;\n                            \n                            if(stacked==true){\n                                for (i = 0; i < index; i++) { \n                                   for (x = 0; x < myLineChart5906.datasets[index].points.length; x++) { \n                                            myLineChart5906.datasets[i].points[x].value = myLineChart5906.datasets[i].points[x].value + myLineChart5906.datasets[index].points[x].value;\n                                   }\n                                }\n                            }\n\n                        } else {\n\n                            if(stacked==true){\n                                for (i = 0; i < index; i++) { \n                                   for (x = 0; x < myLineChart5906.datasets[index].points.length; x++) { \n                                        myLineChart5906.datasets[i].points[x].value = myLineChart5906.datasets[i].points[x].value - myLineChart5906.datasets[index].points[x].value;\n                                   }\n                                }\n                            }\n                            myLineChart5906.datasets[index].temp = myLineChart5906.datasets[index].points;\n                            myLineChart5906.datasets[index].points = [];\n                            svg.style.fill=\"white\";\n                        }\n                        myLineChart5906.update();\n                    }\n                });\n\n            }\n            </script>\n\n            <br> <h2>Legend:</h2>\n            \n                        <br>\n                        <svg height=\"15\" width=\"15\" onclick=\"change5906('Line 1', false)\" style=\"cursor: pointer;\">\n                          <circle  id=\"Line 1\" cx=\"7\" cy=\"10\" r=\"5\" stroke=\"rgba(39, 174, 96,.4)\" stroke-width=\"1\" fill=\"rgba(39, 174, 96,1)\" />\n                        </svg>\n                        <font style=\"cursor: pointer;\" onclick=\"change5906('Line 1',false)\">Line 1</font>\n                    \n                        <br>\n                        <svg height=\"15\" width=\"15\" onclick=\"change5906('Line 2', false)\" style=\"cursor: pointer;\">\n                          <circle  id=\"Line 2\" cx=\"7\" cy=\"10\" r=\"5\" stroke=\"rgba(151,187,205,1)\" stroke-width=\"1\" fill=\"rgba(151,187,205,1)\" />\n                        </svg>\n                        <font style=\"cursor: pointer;\" onclick=\"change5906('Line 2',false)\">Line 2</font>\n                    \n</body></html>",
       "metadata": {},
       "output_type": "pyout",
       "prompt_number": 6,
       "text": "<IPython.core.display.HTML at 0x2774110>"
      }
     ],
     "prompt_number": 6
    },
    {
     "cell_type": "markdown",
     "metadata": {},
     "source": "I was able to specify javascript parameters, as found <a href=\"http://www.chartjs.org/docs/\"> here in the documentation</a> to alter the visual elements of the chart without writing any javascript. All one has to do is find the flag they want to change and then add it to the params argument of the constructor\n<br><br> As well for Line & StackedArea charts, its possible to add flags to each line( internally called a dimension) corresponding to that found in the chart.js documentation"
    },
    {
     "cell_type": "code",
     "collapsed": false,
     "input": "",
     "language": "python",
     "metadata": {},
     "outputs": []
    }
   ],
   "metadata": {}
  }
 ]
}